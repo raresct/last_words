{
 "metadata": {
  "name": "last_words"
 },
 "nbformat": 3,
 "nbformat_minor": 0,
 "worksheets": [
  {
   "cells": [
    {
     "cell_type": "markdown",
     "metadata": {},
     "source": [
      "<h1>Analyzing the last words of executed offenders in Texas</h1>\n",
      "***\n",
      "<h2>The Question</h2>\n",
      "<p>Have you ever wondered what would a wordcloud of the last statements of executed offenders would look like? Probably not, and I would probably not be writing this if it weren't for <a href=\"http://www.reddit.com/r/datasets\" target=\"_blank\">the datasets subreddit</a>. Let's get that morbid curiosity itch scratched.</p>\n",
      "<h2>The Data</h2>\n",
      "As I mentioned, I found the data in the datasets subreddit (it seems it was posted 5-6 times) at this <a href=\"http://www.tdcj.state.tx.us/death_row/dr_executed_offenders.html\" target=\"_blank\">link</a>. At the moment, there are 504 executed in Texas, from 1982 to 22<sup>nd</sup> September 2013. Let's fire up some Python and scrape it. I am interested only in the statement, age, date and race of the executed offenders. But first let's deal with the imports.\n"
     ]
    },
    {
     "cell_type": "code",
     "collapsed": false,
     "input": [
      "from bs4 import BeautifulSoup\n",
      "from urllib2 import urlopen\n",
      "\n",
      "import numpy as np\n",
      "import pandas as pd\n",
      "import matplotlib.pyplot as plt\n",
      "from matplotlib.ticker import FormatStrFormatter\n",
      "\n",
      "from sklearn.feature_extraction.text  import CountVectorizer\n",
      "from sklearn.feature_extraction.text  import TfidfTransformer\n",
      "\n",
      "from collections import Counter\n",
      "\n",
      "from nltk.corpus import stopwords as sw\n",
      "from nltk.corpus import wordnet as wn\n",
      "\n",
      "import operator\n",
      "\n",
      "from pytagcloud import create_tag_image, make_tags\n",
      "from pytagcloud.lang.counter import get_tag_counts\n",
      "\n",
      "from pprint import pprint"
     ],
     "language": "python",
     "metadata": {},
     "outputs": [],
     "prompt_number": 6
    },
    {
     "cell_type": "markdown",
     "metadata": {},
     "source": [
      "<p>Now we write a function that scrapes the data and writes it to the file <em>fname</em>. My file is named <em>last_words_data.csv</em>.</p>"
     ]
    },
    {
     "cell_type": "code",
     "collapsed": false,
     "input": [
      "def write_data(fname):\n",
      "  with open(fname, 'w') as f:\n",
      "    f.write('Statement|Age|Date|Race\\n')\n",
      "    base_url = 'http://www.tdcj.state.tx.us/death_row/'\n",
      "    html_doc = urlopen(base_url+'dr_executed_offenders.html')\n",
      "    soup = BeautifulSoup(html_doc)\n",
      "    for e in soup.find_all('br'):\n",
      "      e.extract()\n",
      "    main_table = soup.find('table')\n",
      "    rows = main_table.find_all('tr')\n",
      "    start = 0\n",
      "    for idx,row in enumerate(rows[1+start:]):\n",
      "      print idx\n",
      "      cols = row.find_all('td')\n",
      "      last_words_url = base_url+cols[2].find('a')['href']\n",
      "      last_words_doc = urlopen(last_words_url)\n",
      "      last_words_soup = BeautifulSoup(last_words_doc)\n",
      "      for e in last_words_soup.find_all('br'):\n",
      "        e.extract()\n",
      "      main_div = last_words_soup.find('div', {'id':'body'})\n",
      "      paragraphs = main_div.find_all('p')\n",
      "      [before_last_p] = filter(lambda x: x.text.strip()=='Last Statement:', paragraphs)\n",
      "      last_statement = ' '.join([x.text for x in before_last_p.find_all_next('p')]).replace('\\r','').replace('\\n','')\n",
      "      age = cols[6].string.strip()\n",
      "      date = cols[7].string.strip()\n",
      "      race = cols[8].string.strip()\n",
      "      csv_row = '|'.join([last_statement, age, date, race])+'\\n'\n",
      "      f.write(csv_row.encode('ascii', 'ignore'))"
     ],
     "language": "python",
     "metadata": {},
     "outputs": [],
     "prompt_number": 8
    },
    {
     "cell_type": "markdown",
     "metadata": {},
     "source": [
      "<h2>Playing with it</h2>\n",
      "Now we have to get the data back into Python and play with it. Note that we remove the default text when an offender refused to give a statement, otherwise our word/frequency ranking would be messed up."
     ]
    },
    {
     "cell_type": "code",
     "collapsed": false,
     "input": [
      "def read_data(fname):\n",
      "  data = pd.read_csv(fname, sep='|', header=0,\n",
      "          names = ['last', 'age', 'date', 'race'])\n",
      "  l = list(data['last'])\n",
      "  default_str = 'This offender declined to make a last statement.'\n",
      "  data['last'] = data['last'].str.replace(default_str, '')\n",
      "  return data\n",
      "\n",
      "data = read_data('last_words_data.csv')"
     ],
     "language": "python",
     "metadata": {},
     "outputs": [],
     "prompt_number": 2
    },
    {
     "cell_type": "markdown",
     "metadata": {},
     "source": [
      "<p>So far so good. Let's see a histogram of the ages of the executed offenders...</p>"
     ]
    },
    {
     "cell_type": "code",
     "collapsed": false,
     "input": [
      "def age_hist(data):\n",
      "  _, bins, _ = plt.hist(data['age'], bins=15)\n",
      "  bins = [round(x) for x in bins]\n",
      "  plt.xticks(bins)\n",
      "  plt.ylim((0,100))\n",
      "  plt.show()\n",
      "    \n",
      "age_hist(data)"
     ],
     "language": "python",
     "metadata": {},
     "outputs": [
      {
       "output_type": "display_data",
       "png": "[encoded data removed]"
      }
     ],
     "prompt_number": 3
    },
    {
     "cell_type": "markdown",
     "metadata": {},
     "source": [
      "<p> ... and a pie plot of race ratios.</p>"
     ]
    },
    {
     "cell_type": "code",
     "collapsed": false,
     "input": [
      "def race_pieplot(data):\n",
      "  data_race = data.dropna(subset=['race'], how='all')\n",
      "  race = data_race['race']\n",
      "  race = Counter(race)\n",
      "  races = race.keys()\n",
      "  counts = race.values()\n",
      "  total_counts = np.sum(counts)\n",
      "  fracs = [x*100/total_counts for x in counts]\n",
      "  plt.pie(fracs, labels=races)\n",
      "  plt.show()\n",
      "    \n",
      "race_pieplot(data)"
     ],
     "language": "python",
     "metadata": {},
     "outputs": [
      {
       "output_type": "display_data",
       "png": "[encoded data removed]"
      }
     ],
     "prompt_number": 4
    },
    {
     "cell_type": "markdown",
     "metadata": {},
     "source": [
      "<p>I promised a wordcloud of the last statements. Instead, you'll get two. One including only words that can be nouns, and one for the those that can't.</p>"
     ]
    },
    {
     "cell_type": "code",
     "collapsed": false,
     "input": [
      "def can_be_noun(test_word):\n",
      "  synsets = wn.synsets(test_word)\n",
      "  if len(synsets) == 0:\n",
      "    return True\n",
      "  for s in synsets:\n",
      "    if s.pos == 'n':\n",
      "      return True\n",
      "  return False\n",
      "\n",
      "def make_tag_cloud(data, can_be_noun_arg):\n",
      "  words = ' '.join(list(data['last']))\n",
      "  stop_words = sw.words()\n",
      "  freqs = [(word, freq) for (word, freq) in get_tag_counts(words)\n",
      "    if word not in stop_words and len(word)>2 and (can_be_noun_arg == can_be_noun(word))]\n",
      "  freqs = freqs[:30]\n",
      "  tags = make_tags(freqs, maxsize=80)\n",
      "  fname = 'noun_last_words.png'\n",
      "  if not can_be_noun_arg:\n",
      "      fname = 'not_'+fname\n",
      "  create_tag_image(tags, fname, size=(900, 600), fontname='Lobster')\n",
      "        \n",
      "make_tag_cloud(data, True)\n",
      "make_tag_cloud(data, False)"
     ],
     "language": "python",
     "metadata": {},
     "outputs": [],
     "prompt_number": 7
    },
    {
     "cell_type": "markdown",
     "metadata": {},
     "source": [
      "<p>My word cloud for words that can be nouns:</p>\n",
      "<img src=\"https://raw.github.com/raresct/last_words/master/noun_last_words_concatenate.png\" width=600 />\n",
      "<p>And for words that can't be nouns:</p>\n",
      "<img src=\"https://raw.github.com/raresct/last_words/master/not_noun_last_words_concatenate.png\" width=600 />"
     ]
    },
    {
     "cell_type": "markdown",
     "metadata": {},
     "source": [
      "<p>In line 1 of make_tag_cloud, I concatenate all the statements together. This is not an ideal solution, since a word appearing 3 times in a statement has the same weight as a word appearing once in 3 different statements. To overcome this, let's normalize the count per statement. We also improve our pipeline with efficient sci-kit learn code.</p>"
     ]
    },
    {
     "cell_type": "code",
     "collapsed": false,
     "input": [
      "def make_tag_cloud(data, can_be_noun_arg, process_option='freqs'):\n",
      "    stop_words = sw.words()\n",
      "    process_f = {\n",
      "            'concatenate': lambda : concatenate(data, can_be_noun_arg, stop_words),\n",
      "            'freqs': lambda : freq_weight(data, can_be_noun_arg, stop_words),\n",
      "            'race' : lambda : race_tfidf(data, can_be_noun_arg, stop_words)\n",
      "    }\n",
      "    freqs = process_f[process_option]()\n",
      "    if type(freqs) == type([]):\n",
      "        freqs = freqs[:30]\n",
      "        # normalize freqs in case they are counts\n",
      "        sum_freqs = np.sum(x for _,x in freqs)\n",
      "        freqs = [(w, np.float(f)/sum_freqs) for w,f in freqs]\n",
      "        tags = make_tags(freqs, maxsize=80)\n",
      "        fname = 'noun_last_words_{}.png'.format(process_option)\n",
      "        if not can_be_noun_arg:\n",
      "            fname = 'not_'+fname\n",
      "        create_tag_image(tags, fname, size=(900, 600), fontname='Lobster')\n",
      "    elif type(freqs)==type({}):\n",
      "        for k in freqs:\n",
      "            top_freqs = freqs[k][:30]\n",
      "            # normalize    \n",
      "            sum_freqs = np.sum(x for _,x in top_freqs)\n",
      "            top_freqs = [(w, np.float(f)/sum_freqs) for w,f in top_freqs]\n",
      "            tags = make_tags(top_freqs, maxsize=15)\n",
      "            fname = 'noun_last_words_{}_{}.png'.format(process_option,k)\n",
      "            create_tag_image(tags, fname, size=(900, 600), fontname='Lobster')\n"
     ],
     "language": "python",
     "metadata": {},
     "outputs": [],
     "prompt_number": 6
    },
    {
     "cell_type": "markdown",
     "metadata": {},
     "source": [
      "<p>There's a lot going on, but let's take it step by step. First, the extra argument process_option defines three ways in which we get the frequencies for the word cloud: concatenate, freqs and race. Concatenate is a reimplementation of the initial solution, freqs is the imporvement we just discussed, i.e., use the frequency of each word per statement rather than the count, and race will be discussed later on. Let's focus on the concatenate and freqs options:</p>"
     ]
    },
    {
     "cell_type": "code",
     "collapsed": false,
     "input": [
      "def concatenate(data, can_be_noun_arg, stop_words):\n",
      "    words = ' '.join(list(data['last']))\n",
      "    count_vectorizer = CountVectorizer()\n",
      "    counts = count_vectorizer.fit_transform([words])\n",
      "    can_be_noun_filter = lambda x: can_be_noun(x) if can_be_noun_arg else lambda x: not can_be_noun(x)\n",
      "    voc = {k:counts[0,v] for k,v in count_vectorizer.vocabulary_.items() if can_be_noun_filter(k) and k not in stop_words}\n",
      "    freqs = list(voc.items())\n",
      "    return sorted(freqs, key = lambda x: x[1], reverse=True)\n",
      "\n",
      "def freq_weight(data, can_be_noun_arg, stop_words):\n",
      "    count_vectorizer = CountVectorizer()\n",
      "    counts = count_vectorizer.fit_transform(data['last'])\n",
      "    overall_freqs = np.mean(counts.todense(), 0)\n",
      "    can_be_noun_filter = lambda x: can_be_noun(x) if can_be_noun_arg else not can_be_noun(x)\n",
      "    voc = {k:overall_freqs[0,v] for k,v in count_vectorizer.vocabulary_.items() if can_be_noun_filter(k) and k not in stop_words}\n",
      "    freqs = list(voc.items())\n",
      "    return sorted(freqs, key = lambda x: x[1], reverse=True)\n"
     ],
     "language": "python",
     "metadata": {},
     "outputs": [],
     "prompt_number": 3
    },
    {
     "cell_type": "markdown",
     "metadata": {},
     "source": [
      "<p>To my surprise, using freqs instead of concatenate yields extremely similar word clouds (which I will not bother to repeat), but in other applications, this distinction might be important. The final option, race, will create a word cloud for each of the races of the offender. The frequencies used will be <a href=\"http://en.wikipedia.org/wiki/Tf%E2%80%93idf\" target=\"_blank\">tf-idf</a>, where a document is actually the set of last statements for a particular race. So, our question is: does race impact the last words of an executed offender?</p>"
     ]
    },
    {
     "cell_type": "code",
     "collapsed": false,
     "input": [
      "def race_tfidf(data, can_be_noun_arg, stop_words):\n",
      "    data = data.groupby('race')['last']\n",
      "    data = dict(list(data))\n",
      "    docs = []\n",
      "    for k in data:\n",
      "        docs.append(' '.join(data[k]))\n",
      "    count_vectorizer = CountVectorizer(stop_words='english')\n",
      "    counts = count_vectorizer.fit_transform(docs)\n",
      "    tfidf = TfidfTransformer(norm=\"l2\", sublinear_tf='True')\n",
      "    tfidf.fit(counts)\n",
      "    tf_idf_matrix = tfidf.transform(counts)\n",
      "    freqs = {}\n",
      "    sorted_voc = sorted(count_vectorizer.vocabulary_.iteritems(), key=operator.itemgetter(1))\n",
      "    terms,_ = zip(*sorted_voc)\n",
      "    for i,k in enumerate(data.keys()):\n",
      "        row = np.array(tf_idf_matrix.todense()[i,:])[0].tolist()\n",
      "        freq = zip(terms, row)\n",
      "        freqs[k] = sorted(freq, reverse=True, key=lambda x: x[1])\n",
      "    return freqs"
     ],
     "language": "python",
     "metadata": {},
     "outputs": [],
     "prompt_number": 5
    },
    {
     "cell_type": "markdown",
     "metadata": {},
     "source": [
      "<p>The can_be_noun_arg and stop_words are superfluous here, and I should remove them but I'm lazy. Returning to our question, the answer seems to be: NO. Race does not influence the last words of an offender, and 'love' is by far the most frequent word, even when weighted against the inverse document frequency. However, we weaken the tf-idf formula by using the log of the frequency (by passing sublinear_tf='True' to the TfidfTransformer), and obtain the following word clouds:</p>\n",
      "<h2>Black</h2>\n",
      "<img src=\"https://raw.github.com/raresct/last_words/master/noun_last_words_race_Black.png\" width=600 />\n",
      "<h2>Hispanic</h2>\n",
      "<img src=\"https://raw.github.com/raresct/last_words/master/noun_last_words_race_Hispanic.png\" width=600 />\n",
      "<h2>Other</h2>\n",
      "<img src=\"https://raw.github.com/raresct/last_words/master/noun_last_words_race_Other.png\" width=600 />\n",
      "<h2>White</h2>\n",
      "<img src=\"https://raw.github.com/raresct/last_words/master/noun_last_words_race_White.png\" width=600 />"
     ]
    },
    {
     "cell_type": "markdown",
     "metadata": {},
     "source": [
      "<h2>Conclusions</h2>\n",
      "\n",
      "I will let you interpret the resulting wordclouds yourselves. In my opinion, most offenders managed to find peace with themselves and kept a positive attitude until the end. Despite this, most seem conscious of their crime, and seek forgiveness, be it from their family, their victims, or God. Race doesn't seem to have an impact on the last words of an offender, however in the characteristic words of the black and hispanic race, we can find terms that relate to nationality: black, lynching etc. for the former, and Spanish, Mexico etc for the latter. An explanation of this observation is a topic of future work."
     ]
    }
   ],
   "metadata": {}
  }
 ]
}